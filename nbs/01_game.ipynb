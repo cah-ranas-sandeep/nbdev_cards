{
 "cells": [
  {
   "cell_type": "code",
   "execution_count": null,
   "metadata": {},
   "outputs": [],
   "source": [
    "#| default_exp game"
   ]
  },
  {
   "attachments": {},
   "cell_type": "markdown",
   "metadata": {},
   "source": [
    "# Game module\n",
    "\n",
    "> Fill in a module description here"
   ]
  },
  {
   "cell_type": "code",
   "execution_count": 1,
   "metadata": {},
   "outputs": [],
   "source": [
    "from nbdev_cards.core import Mage, Ability, Demon"
   ]
  },
  {
   "cell_type": "code",
   "execution_count": 2,
   "metadata": {},
   "outputs": [],
   "source": [
    "#| hide\n",
    "from nbdev.showdoc import *"
   ]
  },
  {
   "cell_type": "code",
   "execution_count": 9,
   "metadata": {},
   "outputs": [],
   "source": [
    "#| export\n",
    "def init_player():\n",
    "    print(f\"Hi there, your speciality ? {Ability.ability_types}\")\n",
    "    while True:\n",
    "        ability_type = input()\n",
    "        if ability_type in Ability.ability_types:\n",
    "            break\n",
    "        else:\n",
    "            print(f\"Invalid ability choice, what is your speciality ? {Ability.ability_types}\")\n",
    "    name = input(\"What is your name, mage ?\")\n",
    "    return Mage(name, 100, Ability(10, ability_type))"
   ]
  },
  {
   "cell_type": "code",
   "execution_count": 7,
   "metadata": {},
   "outputs": [
    {
     "name": "stdout",
     "output_type": "stream",
     "text": [
      "Hi there, your speciality ? ['fire', 'water']\n",
      "            Raama's Current Health: 100\n",
      "            Raama's Max Health: 100\n",
      "            Raama's Ability Damage: 10\n",
      "            Raama's Ability Type: water\n",
      "\n",
      "            \n"
     ]
    }
   ],
   "source": [
    "#| hide\n",
    "player = init_player()\n",
    "print(player)"
   ]
  },
  {
   "cell_type": "code",
   "execution_count": 4,
   "metadata": {},
   "outputs": [],
   "source": [
    "#| export\n",
    "COMBAT_OPTIONS = [\"attack\"]\n",
    "\n",
    "def combat(player, boss):\n",
    "    print(\"Combat has begun!\")\n",
    "    while True:\n",
    "        print(player)\n",
    "        print(boss)\n",
    "        print(f\"What do you want to do ? {COMBAT_OPTIONS}\")\n",
    "        player_move = input()\n",
    "        if player_move not in COMBAT_OPTIONS:\n",
    "            print(\"Not an option, you lose a move!\")\n",
    "        else:\n",
    "            if player_move == \"attack\":\n",
    "                player.attack(boss)\n",
    "                if boss.current_health <= 0:\n",
    "                    return player\n",
    "        \n",
    "        boss.attack(player)\n",
    "        if player.current_health <= 0:\n",
    "            return boss\n"
   ]
  },
  {
   "cell_type": "code",
   "execution_count": 10,
   "metadata": {},
   "outputs": [
    {
     "name": "stdout",
     "output_type": "stream",
     "text": [
      "Combat has begun!\n",
      "            Raama's Current Health: 100\n",
      "            Raama's Max Health: 100\n",
      "            Raama's Ability Damage: 10\n",
      "            Raama's Ability Type: water\n",
      "\n",
      "            \n",
      "            Raavanaa's Current Health: 30\n",
      "            Raavanaa's Max Health: 30\n",
      "            Raavanaa's Ability Damage: 10\n",
      "            Raavanaa's Ability Type: fire\n",
      "\n",
      "            \n",
      "What do you want to do ? ['attack']\n",
      "From Raama's wand, ice cold water is flung towards Raavanaa\n",
      "From Raavanaa's wand, a jet of fire shot towards Raama.\n",
      "            Raama's Current Health: 90\n",
      "            Raama's Max Health: 100\n",
      "            Raama's Ability Damage: 10\n",
      "            Raama's Ability Type: water\n",
      "\n",
      "            \n",
      "            Raavanaa's Current Health: 20\n",
      "            Raavanaa's Max Health: 30\n",
      "            Raavanaa's Ability Damage: 10\n",
      "            Raavanaa's Ability Type: fire\n",
      "\n",
      "            \n",
      "What do you want to do ? ['attack']\n",
      "From Raama's wand, ice cold water is flung towards Raavanaa\n",
      "From Raavanaa's wand, a jet of fire shot towards Raama.\n",
      "            Raama's Current Health: 80\n",
      "            Raama's Max Health: 100\n",
      "            Raama's Ability Damage: 10\n",
      "            Raama's Ability Type: water\n",
      "\n",
      "            \n",
      "            Raavanaa's Current Health: 10\n",
      "            Raavanaa's Max Health: 30\n",
      "            Raavanaa's Ability Damage: 10\n",
      "            Raavanaa's Ability Type: fire\n",
      "\n",
      "            \n",
      "What do you want to do ? ['attack']\n",
      "From Raama's wand, ice cold water is flung towards Raavanaa\n"
     ]
    },
    {
     "data": {
      "text/plain": [
       "<nbdev_cards.core.Mage at 0x23ac1fd8550>"
      ]
     },
     "execution_count": 10,
     "metadata": {},
     "output_type": "execute_result"
    }
   ],
   "source": [
    "#| hide\n",
    "boss = Demon(\"Raavanaa\", 30)\n",
    "combat(player, boss)"
   ]
  },
  {
   "cell_type": "code",
   "execution_count": 7,
   "metadata": {},
   "outputs": [],
   "source": [
    "#| export\n",
    "def game_loop(player, n=5): # n is number of rounds\n",
    "    for i in range(1, n + 1):\n",
    "        boss = Demon(\"Ravana\", 50 * i)\n",
    "        print(f\"A demon named {boss.name} appeared! They seem to have chip on thir shoulder and want to fight you.\")\n",
    "        winner = combat(player, boss)\n",
    "\n",
    "        if winner == player:\n",
    "            print(f\"Well done, you beat {boss.name} and leveled up to {i + 1} !\")\n",
    "            player.level_up()\n",
    "        else:\n",
    "            print(f\"You have fallen to {boss.name} Game Over!\")\n",
    "            break\n",
    "    if i == n:\n",
    "        print(f\"Congratulations, you've defeated all the bosses and won the game. {player.name}'s name shall go down in istory!\")\n"
   ]
  },
  {
   "cell_type": "code",
   "execution_count": 8,
   "metadata": {},
   "outputs": [
    {
     "name": "stdout",
     "output_type": "stream",
     "text": [
      "Hi there, your speciality ? ['fire', 'water']\n",
      "A demon named Ravana appeared! They seem to have chip on thir shoulder and want to fight you.\n",
      "Combat has begun!\n",
      "            Raama's Current Health: 100\n",
      "            Raama's Max Health: 100\n",
      "            Raama's Ability Damage: 10\n",
      "            Raama's Ability Type: water\n",
      "\n",
      "            \n",
      "            Ravana's Current Health: 50\n",
      "            Ravana's Max Health: 50\n",
      "            Ravana's Ability Damage: 10\n",
      "            Ravana's Ability Type: fire\n",
      "\n",
      "            \n",
      "What do you want to do ? ['attack']\n",
      "From Raama's wand, ice cold water is flung towards Ravana\n",
      "From Ravana's wand, a jet of fire shot towards Raama.\n",
      "            Raama's Current Health: 90\n",
      "            Raama's Max Health: 100\n",
      "            Raama's Ability Damage: 10\n",
      "            Raama's Ability Type: water\n",
      "\n",
      "            \n",
      "            Ravana's Current Health: 40\n",
      "            Ravana's Max Health: 50\n",
      "            Ravana's Ability Damage: 10\n",
      "            Ravana's Ability Type: fire\n",
      "\n",
      "            \n",
      "What do you want to do ? ['attack']\n",
      "From Raama's wand, ice cold water is flung towards Ravana\n",
      "From Ravana's wand, a jet of fire shot towards Raama.\n",
      "            Raama's Current Health: 80\n",
      "            Raama's Max Health: 100\n",
      "            Raama's Ability Damage: 10\n",
      "            Raama's Ability Type: water\n",
      "\n",
      "            \n",
      "            Ravana's Current Health: 30\n",
      "            Ravana's Max Health: 50\n",
      "            Ravana's Ability Damage: 10\n",
      "            Ravana's Ability Type: fire\n",
      "\n",
      "            \n",
      "What do you want to do ? ['attack']\n",
      "From Raama's wand, ice cold water is flung towards Ravana\n",
      "From Ravana's wand, a jet of fire shot towards Raama.\n",
      "            Raama's Current Health: 70\n",
      "            Raama's Max Health: 100\n",
      "            Raama's Ability Damage: 10\n",
      "            Raama's Ability Type: water\n",
      "\n",
      "            \n",
      "            Ravana's Current Health: 20\n",
      "            Ravana's Max Health: 50\n",
      "            Ravana's Ability Damage: 10\n",
      "            Ravana's Ability Type: fire\n",
      "\n",
      "            \n",
      "What do you want to do ? ['attack']\n",
      "From Raama's wand, ice cold water is flung towards Ravana\n",
      "From Ravana's wand, a jet of fire shot towards Raama.\n",
      "            Raama's Current Health: 60\n",
      "            Raama's Max Health: 100\n",
      "            Raama's Ability Damage: 10\n",
      "            Raama's Ability Type: water\n",
      "\n",
      "            \n",
      "            Ravana's Current Health: 10\n",
      "            Ravana's Max Health: 50\n",
      "            Ravana's Ability Damage: 10\n",
      "            Ravana's Ability Type: fire\n",
      "\n",
      "            \n",
      "What do you want to do ? ['attack']\n",
      "From Raama's wand, ice cold water is flung towards Ravana\n",
      "Well done, you beat Ravana and leveled up to 2 !\n",
      "Congratulations, you've defeated all the bosses and won the game. Raama's name shall go down in istory!\n"
     ]
    }
   ],
   "source": [
    "#| hide\n",
    "player = init_player()\n",
    "game_loop(player, 1)"
   ]
  },
  {
   "cell_type": "code",
   "execution_count": 10,
   "metadata": {},
   "outputs": [],
   "source": [
    "#| hide\n",
    "import nbdev; nbdev.nbdev_export(\"01_game.ipynb\")"
   ]
  }
 ],
 "metadata": {
  "kernelspec": {
   "display_name": "kern_mastery_repos",
   "language": "python",
   "name": "kern_mastery_repos"
  },
  "language_info": {
   "codemirror_mode": {
    "name": "ipython",
    "version": 3
   },
   "file_extension": ".py",
   "mimetype": "text/x-python",
   "name": "python",
   "nbconvert_exporter": "python",
   "pygments_lexer": "ipython3",
   "version": "3.11.4"
  }
 },
 "nbformat": 4,
 "nbformat_minor": 4
}
